{
 "cells": [
  {
   "cell_type": "code",
   "execution_count": null,
   "metadata": {},
   "outputs": [],
   "source": [
    "import bs4\n",
    "from bs4 import BeautifulSoup  \n",
    "import pandas as pd\n",
    "import scipy as sc\n",
    "import numpy as np\n",
    "import requests\n",
    "from time import sleep"
   ]
  },
  {
   "cell_type": "code",
   "execution_count": null,
   "metadata": {},
   "outputs": [],
   "source": [
    "url='https://www.iqair.com/world-air-quality'\n",
    "user_agent = {'User-agent': 'Mozilla/5.0'}\n",
    "response1 = requests.get(url,headers=user_agent)\n",
    "soup = BeautifulSoup(response1.content, \"html.parser\")"
   ]
  },
  {
   "cell_type": "code",
   "execution_count": null,
   "metadata": {},
   "outputs": [],
   "source": [
    "Country=list()\n",
    "Link_to_Country=list()\n",
    "Link_to_Page=list()\n",
    "for p in soup.findAll(\"li\",attrs={\"class\":\"state-list__item\"}):\n",
    "    Country.append(p.find('a', text=True).get_text(strip=True))\n",
    "    Link_to_Country.append(p.find('a')['href'])\n",
    "    \n",
    "url=\"https://www.iqair.com\"\n",
    "Link_to_Country[:] = [s.replace(s, url+s) for s in Link_to_Country]\n",
    "\n",
    "df=pd.DataFrame({\"Country\":Country,\"Link_to_Country\":Link_to_Country})\n",
    "df.to_csv(\"resultCountry.csv\")"
   ]
  },
  {
   "cell_type": "code",
   "execution_count": null,
   "metadata": {},
   "outputs": [],
   "source": [
    "District=list()\n",
    "link_to_district=list()\n",
    "DistCountry=list()\n",
    "for i,j in zip(Link_to_Country,Country):\n",
    "    user_agent = {'User-agent': 'Mozilla/5.0'}\n",
    "    response1 = requests.get(i,headers=user_agent)\n",
    "    soup_temp = BeautifulSoup(response1.content, \"html.parser\")\n",
    "    for p in soup_temp.findAll(\"li\",attrs={\"class\":\"state-list__item\"}):\n",
    "        District.append(p.find('a', text=True).get_text(strip=True))\n",
    "        DistCountry.append(j)\n",
    "        link_to_district.append(p.find('a')['href'])\n",
    "\n",
    "url=\"https://www.iqair.com\"\n",
    "link_to_district[:] = [s.replace(s, url+s) for s in link_to_district]\n",
    "\n",
    "\n"
   ]
  },
  {
   "cell_type": "code",
   "execution_count": null,
   "metadata": {},
   "outputs": [],
   "source": [
    "df=pd.DataFrame({\"District\":District,\"link_to_district\":link_to_district,\"Country\":DistCountry})\n",
    "df.to_csv(\"resultDistrict.csv\")"
   ]
  },
  {
   "cell_type": "code",
   "execution_count": null,
   "metadata": {},
   "outputs": [],
   "source": [
    "City=list()\n",
    "link_to_city=list()\n",
    "CityDist=list()\n",
    "CityCountry=list()\n",
    "for i,j,k in zip(link_to_district,District,DistCountry):\n",
    "    user_agent = {'User-agent': 'Mozilla/5.0'}\n",
    "    response2 = requests.get(i,headers=user_agent)\n",
    "    soup_temp2 = BeautifulSoup(response2.content, \"html.parser\")\n",
    "    for p in soup_temp2.findAll(\"li\",attrs={\"class\":\"station-list__item\"}):\n",
    "        City.append(p.find('a').get_text().strip())\n",
    "        CityDist.append(j)\n",
    "        CityCountry.append(k)\n",
    "        link_to_city.append(p.find('a')['href'])\n",
    "        \n"
   ]
  },
  {
   "cell_type": "code",
   "execution_count": null,
   "metadata": {},
   "outputs": [],
   "source": [
    "url=\"https://www.iqair.com\"\n",
    "link_to_city[:] = [s.replace(s, url+s) for s in link_to_city]\n"
   ]
  },
  {
   "cell_type": "code",
   "execution_count": null,
   "metadata": {},
   "outputs": [],
   "source": [
    "df_City=pd.DataFrame({\"Country\":CityCountry,\"District\":CityDist,\"City\":City,\"Link to city\":link_to_city})\n",
    "df_City.to_csv(\"resultCity.csv\")"
   ]
  }
 ],
 "metadata": {
  "kernelspec": {
   "display_name": "Python 3",
   "language": "python",
   "name": "python3"
  },
  "language_info": {
   "codemirror_mode": {
    "name": "ipython",
    "version": 3
   },
   "file_extension": ".py",
   "mimetype": "text/x-python",
   "name": "python",
   "nbconvert_exporter": "python",
   "pygments_lexer": "ipython3",
   "version": "3.8.5"
  }
 },
 "nbformat": 4,
 "nbformat_minor": 4
}
